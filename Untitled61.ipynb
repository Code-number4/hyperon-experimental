{
  "nbformat": 4,
  "nbformat_minor": 0,
  "metadata": {
    "colab": {
      "provenance": [],
      "authorship_tag": "ABX9TyOZlI47P+tgW6bL0yQLrudp",
      "include_colab_link": true
    },
    "kernelspec": {
      "name": "python3",
      "display_name": "Python 3"
    },
    "language_info": {
      "name": "python"
    }
  },
  "cells": [
    {
      "cell_type": "markdown",
      "metadata": {
        "id": "view-in-github",
        "colab_type": "text"
      },
      "source": [
        "<a href=\"https://colab.research.google.com/github/Code-number4/hyperon-experimental/blob/main/Untitled61.ipynb\" target=\"_parent\"><img src=\"https://colab.research.google.com/assets/colab-badge.svg\" alt=\"Open In Colab\"/></a>"
      ]
    },
    {
      "cell_type": "code",
      "execution_count": null,
      "metadata": {
        "id": "giww8vxWsQ-I"
      },
      "outputs": [],
      "source": []
    },
    {
      "cell_type": "code",
      "source": [
        "class Fact:\n",
        "    def __init__(self, subject, predicate, obj):\n",
        "        self.subject = subject\n",
        "        self.predicate = predicate\n",
        "        self.obj = obj\n",
        "\n",
        "    def __repr__(self):\n",
        "        return f\"{self.subject} {self.predicate} {self.obj}\"\n",
        "\n",
        "\n",
        "class KnowledgeBase:\n",
        "    def __init__(self):\n",
        "        self.facts = []\n",
        "\n",
        "    def add_fact(self, fact):\n",
        "        self.facts.append(fact)\n",
        "\n",
        "    def query(self, subject=None, predicate=None, obj=None):\n",
        "        results = []\n",
        "        for fact in self.facts:\n",
        "            if (subject is None or fact.subject == subject) and \\\n",
        "               (predicate is None or fact.predicate == predicate) and \\\n",
        "               (obj is None or fact.obj == obj):\n",
        "                results.append(fact)\n",
        "        return results\n",
        "\n",
        "    def infer(self, rule):\n",
        "        return rule(self)\n",
        "\n",
        "# Define the knowledge base\n",
        "kb = KnowledgeBase()\n",
        "\n",
        "# Add facts to the knowledge base\n",
        "kb.add_fact(Fact(\"malaria\", \"is\", \"potentially_fatal_disease\"))\n",
        "kb.add_fact(Fact(\"malaria\", \"is_caused_by\", \"plasmodium_parasite\"))\n",
        "kb.add_fact(Fact(\"plasmodium_parasite\", \"is_transmitted_by\", \"infected_anopheles_mosquito\"))\n",
        "kb.add_fact(Fact(\"malaria\", \"is\", \"significant_public_health_issue\"))\n",
        "kb.add_fact(Fact(\"malaria\", \"is_prevalent_in\", \"sub_saharan_africa\"))\n",
        "kb.add_fact(Fact(\"malaria\", \"is_prevalent_in\", \"southeast_asia\"))\n",
        "kb.add_fact(Fact(\"malaria\", \"is_prevalent_in\", \"latin_america\"))\n",
        "kb.add_fact(Fact(\"plasmodium_parasite\", \"has\", \"complex_life_cycle\"))\n",
        "kb.add_fact(Fact(\"plasmodium_parasite\", \"has_life_cycle_stages_in\", \"mosquito_vector\"))\n",
        "kb.add_fact(Fact(\"plasmodium_parasite\", \"has_life_cycle_stages_in\", \"human_host\"))\n",
        "kb.add_fact(Fact(\"plasmodium_parasite\", \"infects\", \"human_liver_cells\"))\n",
        "kb.add_fact(Fact(\"plasmodium_parasite\", \"infects\", \"red_blood_cells\"))\n",
        "kb.add_fact(Fact(\"plasmodium_parasite\", \"causes\", \"erythrocytic_stage\"))\n",
        "kb.add_fact(Fact(\"erythrocytic_stage\", \"causes\", \"clinical_symptoms_of_malaria\"))\n",
        "\n",
        "# Define inference rules\n",
        "def rule_complexity_of_disease(kb):\n",
        "    if kb.query(subject=\"plasmodium_parasite\", predicate=\"has\", obj=\"complex_life_cycle\") and \\\n",
        "       kb.query(subject=\"malaria\", predicate=\"is\", obj=\"potentially_fatal_disease\"):\n",
        "        return [Fact(\"malaria\", \"has\", \"complexity_of_disease\")]\n",
        "    return []\n",
        "\n",
        "def rule_multifaceted_approach_needed(kb):\n",
        "    if kb.query(subject=\"malaria\", predicate=\"has\", obj=\"complexity_of_disease\"):\n",
        "        return [Fact(\"multifaceted_approach\", \"is_needed_for\", \"treatment_and_management\")]\n",
        "    return []\n",
        "\n",
        "# Perform inference\n",
        "new_facts = kb.infer(rule_complexity_of_disease)\n",
        "for fact in new_facts:\n",
        "    kb.add_fact(fact)\n",
        "\n",
        "new_facts = kb.infer(rule_multifaceted_approach_needed)\n",
        "for fact in new_facts:\n",
        "    kb.add_fact(fact)\n",
        "\n",
        "# Query the knowledge base\n",
        "result = kb.query(predicate=\"is_needed_for\")\n",
        "for fact in result:\n",
        "    print(fact)"
      ],
      "metadata": {
        "id": "FZiyvWyCsR3y",
        "outputId": "844a57a2-09ad-446b-d2e1-3e71bed16db4",
        "colab": {
          "base_uri": "https://localhost:8080/"
        }
      },
      "execution_count": null,
      "outputs": [
        {
          "output_type": "stream",
          "name": "stdout",
          "text": [
            "multifaceted_approach is_needed_for treatment_and_management\n"
          ]
        }
      ]
    }
  ]
}